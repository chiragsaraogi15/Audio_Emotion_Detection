{
  "nbformat": 4,
  "nbformat_minor": 0,
  "metadata": {
    "colab": {
      "provenance": []
    },
    "kernelspec": {
      "name": "python3",
      "display_name": "Python 3"
    },
    "language_info": {
      "name": "python"
    }
  },
  "cells": [
    {
      "cell_type": "code",
      "execution_count": null,
      "metadata": {
        "id": "hWVFHKHghuaf",
        "outputId": "b8a96b00-619c-4b84-aee5-b17f169e9fab",
        "colab": {
          "base_uri": "https://localhost:8080/"
        }
      },
      "outputs": [
        {
          "output_type": "stream",
          "name": "stdout",
          "text": [
            "Librosa version: 0.10.0.post2\n",
            "NumPy version: 1.23.5\n",
            "Pandas version: 1.5.3\n",
            "Joblib version: 1.3.2\n",
            "Scikit-learn version: 1.2.2\n",
            "Numba version: 0.56.4\n"
          ]
        }
      ],
      "source": [
        "import librosa\n",
        "import numpy as np\n",
        "import pandas as pd\n",
        "import joblib\n",
        "from sklearn.preprocessing import StandardScaler\n",
        "from sklearn.decomposition import PCA\n",
        "import sklearn\n",
        "import numba\n",
        "\n",
        "# Check versions\n",
        "print(\"Librosa version:\", librosa.__version__)\n",
        "print(\"NumPy version:\", np.__version__)\n",
        "print(\"Pandas version:\", pd.__version__)\n",
        "print(\"Joblib version:\", joblib.__version__)\n",
        "print(\"Scikit-learn version:\", sklearn.__version__)\n",
        "print(\"Numba version:\", numba.__version__)"
      ]
    },
    {
      "cell_type": "code",
      "source": [
        "librosa.show_versions()"
      ],
      "metadata": {
        "colab": {
          "base_uri": "https://localhost:8080/"
        },
        "id": "JRsuzoP22919",
        "outputId": "bd013426-b66d-4a2f-f218-279bc310303e"
      },
      "execution_count": null,
      "outputs": [
        {
          "output_type": "stream",
          "name": "stdout",
          "text": [
            "INSTALLED VERSIONS\n",
            "------------------\n",
            "python: 3.10.12 (main, Jun 11 2023, 05:26:28) [GCC 11.4.0]\n",
            "\n",
            "librosa: 0.10.0.post2\n",
            "\n",
            "audioread: 3.0.0\n",
            "numpy: 1.23.5\n",
            "scipy: 1.10.1\n",
            "sklearn: 1.2.2\n",
            "joblib: 1.3.2\n",
            "decorator: 4.4.2\n",
            "numba: 0.56.4\n",
            "soundfile: 0.12.1\n",
            "pooch: v1.6.0\n",
            "soxr: 0.3.6\n",
            "typing_extensions: installed, no version number available\n",
            "lazy_loader: installed, no version number available\n",
            "msgpack: 1.0.5\n",
            "\n",
            "numpydoc: None\n",
            "sphinx: 5.0.2\n",
            "sphinx_rtd_theme: None\n",
            "matplotlib: 3.7.1\n",
            "sphinx_multiversion: None\n",
            "sphinx_gallery: None\n",
            "mir_eval: None\n",
            "ipython: None\n",
            "sphinxcontrib.rsvgconverter: None\n",
            "pytest: 7.4.0\n",
            "pytest_mpl: None\n",
            "pytest_cov: None\n",
            "samplerate: None\n",
            "resampy: None\n",
            "presets: None\n",
            "packaging: 23.1\n"
          ]
        }
      ]
    },
    {
      "cell_type": "code",
      "source": [
        "best_model_path = '/content/drive/MyDrive/Data Science/Data Science Projects/5. Final Project/2. Audio Songs /1. Emotion Classification Model/Emotion_Classification_Model.pkl'\n",
        "loaded_model = joblib.load(best_model_path)\n",
        "\n",
        "# Load the saved StandardScaler\n",
        "scaler_path = '/content/drive/MyDrive/Data Science/Data Science Projects/5. Final Project/2. Audio Songs /1. Emotion Classification Model/Emotion_Scaler.pkl'\n",
        "loaded_scaler = joblib.load(scaler_path)\n",
        "\n",
        "# Load the saved PCA model\n",
        "pca_path = '/content/drive/MyDrive/Data Science/Data Science Projects/5. Final Project/2. Audio Songs /1. Emotion Classification Model/Emotion_PCA.pkl'\n",
        "loaded_pca = joblib.load(pca_path)\n",
        "\n",
        "# Load the saved label encoder\n",
        "label_encoder_path = '/content/drive/MyDrive/Data Science/Data Science Projects/5. Final Project/2. Audio Songs /1. Emotion Classification Model/Emotion_LabelEncoder.pkl'\n",
        "label_encoder = joblib.load(label_encoder_path)"
      ],
      "metadata": {
        "id": "StIVSyjghy1Q"
      },
      "execution_count": null,
      "outputs": []
    },
    {
      "cell_type": "code",
      "source": [
        "new_audio_path = '/content/drive/MyDrive/Data Science/Data Science Projects/5. Final Project/2. Audio Songs /1. Emotion Classification Model/Data Files/Song Files Test/Metallica-Nothing-Else-Matters-(Gospeljingle.com).mp3'"
      ],
      "metadata": {
        "id": "DhZl6SGih_Ts"
      },
      "execution_count": null,
      "outputs": []
    },
    {
      "cell_type": "code",
      "source": [
        "y, sr = librosa.load(new_audio_path)"
      ],
      "metadata": {
        "id": "9sMb24VDhTJ1"
      },
      "execution_count": null,
      "outputs": []
    },
    {
      "cell_type": "code",
      "source": [
        "def calculate_audio_features(y, sr):\n",
        "    # Calculate Chroma Short-Time Fourier Transform (STFT)\n",
        "    chroma_stft_mean = np.mean(librosa.feature.chroma_stft(y=y, sr=sr))\n",
        "    chroma_stft_var = np.var(librosa.feature.chroma_stft(y=y, sr=sr))\n",
        "\n",
        "    # Calculate Root Mean Square (RMS)\n",
        "    rms_mean = np.mean(librosa.feature.rms(y=y))\n",
        "    rms_var = np.var(librosa.feature.rms(y=y))\n",
        "\n",
        "    # Calculate Spectral Centroid\n",
        "    spectral_centroid_mean = np.mean(librosa.feature.spectral_centroid(y=y, sr=sr))\n",
        "    spectral_centroid_var = np.var(librosa.feature.spectral_centroid(y=y, sr=sr))\n",
        "\n",
        "    # Calculate Spectral Bandwidth\n",
        "    spectral_bandwidth_mean = np.mean(librosa.feature.spectral_bandwidth(y=y, sr=sr))\n",
        "    spectral_bandwidth_var = np.var(librosa.feature.spectral_bandwidth(y=y, sr=sr))\n",
        "\n",
        "    # Calculate Rolloff\n",
        "    rolloff_mean = np.mean(librosa.feature.spectral_rolloff(y=y, sr=sr))\n",
        "    rolloff_var = np.var(librosa.feature.spectral_rolloff(y=y, sr=sr))\n",
        "\n",
        "    # Calculate Zero Crossing Rate\n",
        "    zero_crossing_rate_mean = np.mean(librosa.feature.zero_crossing_rate(y=y))\n",
        "    zero_crossing_rate_var = np.var(librosa.feature.zero_crossing_rate(y=y))\n",
        "\n",
        "    # Calculate Harmony\n",
        "    harmony = librosa.effects.harmonic(y=y)\n",
        "    harmony_mean = np.mean(harmony)\n",
        "    harmony_var = np.var(harmony)\n",
        "\n",
        "    # Calculate Perceptr\n",
        "    perceptr = librosa.effects.percussive(y=y)\n",
        "    perceptr_mean = np.mean(perceptr)\n",
        "    perceptr_var = np.var(perceptr)\n",
        "\n",
        "    # Calculate Tempo\n",
        "    tempo = librosa.beat.tempo(y=y, sr=sr)[0]\n",
        "\n",
        "    # Calculate MFCC features\n",
        "    mfccs = librosa.feature.mfcc(y=y, sr=sr, n_mfcc=20)  # Calculate 20 MFCCs\n",
        "    mfcc_means = np.mean(mfccs, axis=1)  # Calculate means of MFCCs\n",
        "    mfcc_vars = np.var(mfccs, axis=1)\n",
        "\n",
        "    mfccs = librosa.feature.mfcc(y=y, sr=sr, n_mfcc=20)\n",
        "\n",
        "    # Calculate mean and variance for each MFCC coefficient\n",
        "    mfcc_means = np.mean(mfccs, axis=1)\n",
        "    mfcc_variances = np.var(mfccs, axis=1)\n",
        "\n",
        "    # Assign values to individual variables\n",
        "    mfcc1_mean, mfcc2_mean, mfcc3_mean, mfcc4_mean, mfcc5_mean, \\\n",
        "    mfcc6_mean, mfcc7_mean, mfcc8_mean, mfcc9_mean, mfcc10_mean, \\\n",
        "    mfcc11_mean, mfcc12_mean, mfcc13_mean, mfcc14_mean, mfcc15_mean, \\\n",
        "    mfcc16_mean, mfcc17_mean, mfcc18_mean, mfcc19_mean, mfcc20_mean = mfcc_means\n",
        "\n",
        "    mfcc1_var, mfcc2_var, mfcc3_var, mfcc4_var, mfcc5_var, \\\n",
        "    mfcc6_var, mfcc7_var, mfcc8_var, mfcc9_var, mfcc10_var, \\\n",
        "    mfcc11_var, mfcc12_var, mfcc13_var, mfcc14_var, mfcc15_var, \\\n",
        "    mfcc16_var, mfcc17_var, mfcc18_var, mfcc19_var, mfcc20_var = mfcc_variances\n",
        "\n",
        "    return (chroma_stft_mean, chroma_stft_var, rms_mean, rms_var,\n",
        "            spectral_centroid_mean, spectral_centroid_var,\n",
        "            spectral_bandwidth_mean, spectral_bandwidth_var,\n",
        "            rolloff_mean, rolloff_var,\n",
        "            zero_crossing_rate_mean, zero_crossing_rate_var,\n",
        "            harmony_mean, harmony_var,\n",
        "            perceptr_mean, perceptr_var, tempo,\n",
        "            mfcc1_mean, mfcc1_var,\n",
        "            mfcc2_mean, mfcc2_var,\n",
        "            mfcc3_mean, mfcc3_var,\n",
        "            mfcc4_mean, mfcc4_var,\n",
        "            mfcc5_mean, mfcc5_var,\n",
        "            mfcc6_mean, mfcc6_var,\n",
        "            mfcc7_mean, mfcc7_var,\n",
        "            mfcc8_mean, mfcc8_var,\n",
        "            mfcc9_mean, mfcc9_var,\n",
        "            mfcc10_mean, mfcc10_var,\n",
        "            mfcc11_mean, mfcc11_var,\n",
        "            mfcc12_mean, mfcc12_var,\n",
        "            mfcc13_mean, mfcc13_var,\n",
        "            mfcc14_mean, mfcc14_var,\n",
        "            mfcc15_mean, mfcc15_var,\n",
        "            mfcc16_mean, mfcc16_var,\n",
        "            mfcc17_mean, mfcc17_var,\n",
        "            mfcc18_mean, mfcc18_var,\n",
        "            mfcc19_mean, mfcc19_var,\n",
        "            mfcc20_mean, mfcc20_var\n",
        "            )\n",
        "\n",
        "# Replace y and sr with your actual audio data and sampling rate\n",
        "y, sr = librosa.load(new_audio_path)\n",
        "\n",
        "# Calculate features\n",
        "(chroma_stft_mean, chroma_stft_var, rms_mean, rms_var,\n",
        "            spectral_centroid_mean, spectral_centroid_var,\n",
        "            spectral_bandwidth_mean, spectral_bandwidth_var,\n",
        "            rolloff_mean, rolloff_var,\n",
        "            zero_crossing_rate_mean, zero_crossing_rate_var,\n",
        "            harmony_mean, harmony_var,\n",
        "            perceptr_mean, perceptr_var, tempo,\n",
        "            mfcc1_mean, mfcc1_var,\n",
        "            mfcc2_mean, mfcc2_var,\n",
        "            mfcc3_mean, mfcc3_var,\n",
        "            mfcc4_mean, mfcc4_var,\n",
        "            mfcc5_mean, mfcc5_var,\n",
        "            mfcc6_mean, mfcc6_var,\n",
        "            mfcc7_mean, mfcc7_var,\n",
        "            mfcc8_mean, mfcc8_var,\n",
        "            mfcc9_mean, mfcc9_var,\n",
        "            mfcc10_mean, mfcc10_var,\n",
        "            mfcc11_mean, mfcc11_var,\n",
        "            mfcc12_mean, mfcc12_var,\n",
        "            mfcc13_mean, mfcc13_var,\n",
        "            mfcc14_mean, mfcc14_var,\n",
        "            mfcc15_mean, mfcc15_var,\n",
        "            mfcc16_mean, mfcc16_var,\n",
        "            mfcc17_mean, mfcc17_var,\n",
        "            mfcc18_mean, mfcc18_var,\n",
        "            mfcc19_mean, mfcc19_var,\n",
        "            mfcc20_mean, mfcc20_var\n",
        " ) = calculate_audio_features(y, sr)\n"
      ],
      "metadata": {
        "id": "Vpn2aLZTmVjr",
        "colab": {
          "base_uri": "https://localhost:8080/"
        },
        "outputId": "4a0e13f8-187e-4aee-d539-e57693b00f29"
      },
      "execution_count": null,
      "outputs": [
        {
          "output_type": "stream",
          "name": "stderr",
          "text": [
            "<ipython-input-6-1e2e3a295cc4>:37: FutureWarning: librosa.beat.tempo\n",
            "\tThis function was moved to 'librosa.feature.rhythm.tempo' in librosa version 0.10.0.\n",
            "\tThis alias will be removed in librosa version 1.0.\n",
            "  tempo = librosa.beat.tempo(y=y, sr=sr)[0]\n"
          ]
        }
      ]
    },
    {
      "cell_type": "code",
      "source": [
        "all_features = [\n",
        "                chroma_stft_mean, chroma_stft_var, rms_mean, rms_var,\n",
        "                spectral_centroid_mean, spectral_centroid_var,\n",
        "                spectral_bandwidth_mean, spectral_bandwidth_var,\n",
        "                rolloff_mean, rolloff_var,\n",
        "                zero_crossing_rate_mean, zero_crossing_rate_var,\n",
        "                harmony_mean, harmony_var,\n",
        "                perceptr_mean, perceptr_var, tempo,\n",
        "                mfcc1_mean, mfcc1_var,\n",
        "                mfcc2_mean, mfcc2_var,\n",
        "                mfcc3_mean, mfcc3_var,\n",
        "                mfcc4_mean, mfcc4_var,\n",
        "                mfcc5_mean, mfcc5_var,\n",
        "                mfcc6_mean, mfcc6_var,\n",
        "                mfcc7_mean, mfcc7_var,\n",
        "                mfcc8_mean, mfcc8_var,\n",
        "                mfcc9_mean, mfcc9_var,\n",
        "                mfcc10_mean, mfcc10_var,\n",
        "                mfcc11_mean, mfcc11_var,\n",
        "                mfcc12_mean, mfcc12_var,\n",
        "                mfcc13_mean, mfcc13_var,\n",
        "                mfcc14_mean, mfcc14_var,\n",
        "                mfcc15_mean, mfcc15_var,\n",
        "                mfcc16_mean, mfcc16_var,\n",
        "                mfcc17_mean, mfcc17_var,\n",
        "                mfcc18_mean, mfcc18_var,\n",
        "                mfcc19_mean, mfcc19_var,\n",
        "                mfcc20_mean, mfcc20_var\n",
        "]"
      ],
      "metadata": {
        "id": "O6MZVSipnccl"
      },
      "execution_count": null,
      "outputs": []
    },
    {
      "cell_type": "code",
      "source": [
        "combined_features = np.array(all_features)"
      ],
      "metadata": {
        "id": "1sfwsU_Jn05D"
      },
      "execution_count": null,
      "outputs": []
    },
    {
      "cell_type": "code",
      "source": [
        "scaled_data = loaded_scaler.transform(combined_features.reshape(1, -1))\n",
        "pca_data = loaded_pca.transform(scaled_data)"
      ],
      "metadata": {
        "id": "ZrKHhMUm7Z-E",
        "colab": {
          "base_uri": "https://localhost:8080/"
        },
        "outputId": "e86283dc-73e3-4668-aa88-9a3a78e32e0d"
      },
      "execution_count": null,
      "outputs": [
        {
          "output_type": "stream",
          "name": "stderr",
          "text": [
            "/usr/local/lib/python3.10/dist-packages/sklearn/base.py:439: UserWarning: X does not have valid feature names, but StandardScaler was fitted with feature names\n",
            "  warnings.warn(\n"
          ]
        }
      ]
    },
    {
      "cell_type": "code",
      "source": [
        "predicted_class = loaded_model.predict(pca_data)"
      ],
      "metadata": {
        "id": "eA1anwwz788M"
      },
      "execution_count": null,
      "outputs": []
    },
    {
      "cell_type": "code",
      "source": [
        "predicted_labels = label_encoder.inverse_transform(predicted_class)"
      ],
      "metadata": {
        "id": "sdSrdeld8opy"
      },
      "execution_count": null,
      "outputs": []
    },
    {
      "cell_type": "code",
      "source": [
        "print(predicted_labels)"
      ],
      "metadata": {
        "id": "Sz2EvMZMAJ_b",
        "colab": {
          "base_uri": "https://localhost:8080/"
        },
        "outputId": "4cc44a0c-82c9-4214-a21a-7a46ff8b30a6"
      },
      "execution_count": null,
      "outputs": [
        {
          "output_type": "stream",
          "name": "stdout",
          "text": [
            "['Upbeat Joy']\n"
          ]
        }
      ]
    },
    {
      "cell_type": "code",
      "source": [],
      "metadata": {
        "id": "ZJlkc0L5ALdf"
      },
      "execution_count": null,
      "outputs": []
    }
  ]
}